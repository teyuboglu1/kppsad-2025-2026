{
 "cells": [
  {
   "cell_type": "markdown",
   "id": "c2d28a0a-f768-4283-9595-e6c1833a03c5",
   "metadata": {},
   "source": [
    "### Подготовил: Еюбоглу Тимур\n",
    "### Ст. билет: 1032224357\n",
    "### Группа: НПИбд-01-22"
   ]
  },
  {
   "cell_type": "markdown",
   "id": "2b9e3fcf-3824-4125-92e8-93817326853f",
   "metadata": {},
   "source": [
    "### Кортежи"
   ]
  },
  {
   "cell_type": "markdown",
   "id": "1fb2a485-e7e2-44c8-a8cc-4ff441fe5da8",
   "metadata": {},
   "source": [
    "#### Примеры кортежей:"
   ]
  },
  {
   "cell_type": "code",
   "execution_count": 3,
   "id": "be6377f8-4027-4e07-8e92-342569546581",
   "metadata": {},
   "outputs": [
    {
     "data": {
      "text/plain": [
       "()"
      ]
     },
     "execution_count": 3,
     "metadata": {},
     "output_type": "execute_result"
    }
   ],
   "source": [
    "# пустой кортеж:\n",
    "()"
   ]
  },
  {
   "cell_type": "code",
   "execution_count": 4,
   "id": "559c1178-2f90-44e6-819b-4637b5125152",
   "metadata": {},
   "outputs": [
    {
     "data": {
      "text/plain": [
       "(\"Python\", \"Julia\", \"R\")"
      ]
     },
     "execution_count": 4,
     "metadata": {},
     "output_type": "execute_result"
    }
   ],
   "source": [
    "# кортеж из элементов типа String:\n",
    "favoritelang = (\"Python\",\"Julia\",\"R\")"
   ]
  },
  {
   "cell_type": "code",
   "execution_count": 5,
   "id": "91383d2d-d1b8-4094-8398-890c6b70d69d",
   "metadata": {},
   "outputs": [
    {
     "data": {
      "text/plain": [
       "(1, 2, 3)"
      ]
     },
     "execution_count": 5,
     "metadata": {},
     "output_type": "execute_result"
    }
   ],
   "source": [
    "# кортеж из целых чисел:\n",
    "x1 = (1, 2, 3)\n"
   ]
  },
  {
   "cell_type": "code",
   "execution_count": 6,
   "id": "b4100ed7-2553-42f5-aabf-4b51a74a9639",
   "metadata": {},
   "outputs": [
    {
     "data": {
      "text/plain": [
       "(1, 2.0, \"tmp\")"
      ]
     },
     "execution_count": 6,
     "metadata": {},
     "output_type": "execute_result"
    }
   ],
   "source": [
    "# кортеж из элементов разных типов:\n",
    "x2 = (1, 2.0, \"tmp\")\n"
   ]
  },
  {
   "cell_type": "code",
   "execution_count": 7,
   "id": "e10e39d9-7c6a-4daa-853d-471fda9bec99",
   "metadata": {},
   "outputs": [
    {
     "data": {
      "text/plain": [
       "(a = 2, b = 3)"
      ]
     },
     "execution_count": 7,
     "metadata": {},
     "output_type": "execute_result"
    }
   ],
   "source": [
    "# именованный кортеж:\n",
    "x3 = (a=2, b=1+2)"
   ]
  },
  {
   "cell_type": "markdown",
   "id": "04afdd67-8915-4372-bb04-42780f949643",
   "metadata": {},
   "source": [
    "#### Примеры операций над кортежами:"
   ]
  },
  {
   "cell_type": "code",
   "execution_count": 8,
   "id": "2b1669ee-3fab-4d30-b1f2-54ba95cbf8c8",
   "metadata": {},
   "outputs": [
    {
     "data": {
      "text/plain": [
       "3"
      ]
     },
     "execution_count": 8,
     "metadata": {},
     "output_type": "execute_result"
    }
   ],
   "source": [
    "# длина кортежа x2:\n",
    "length(x2)"
   ]
  },
  {
   "cell_type": "code",
   "execution_count": 9,
   "id": "de6c0ce3-3f96-4c1c-a4e1-9f00da17569e",
   "metadata": {},
   "outputs": [
    {
     "data": {
      "text/plain": [
       "(1, 2.0, \"tmp\")"
      ]
     },
     "execution_count": 9,
     "metadata": {},
     "output_type": "execute_result"
    }
   ],
   "source": [
    "# обратиться к элементам кортежа x2:\n",
    "x2[1], x2[2], x2[3]\n"
   ]
  },
  {
   "cell_type": "code",
   "execution_count": 10,
   "id": "43a3495d-e55b-4ee8-bb86-49f23b92c924",
   "metadata": {},
   "outputs": [
    {
     "data": {
      "text/plain": [
       "5"
      ]
     },
     "execution_count": 10,
     "metadata": {},
     "output_type": "execute_result"
    }
   ],
   "source": [
    "# произвести какую-либо операцию (сложение)\n",
    "# с вторым и третьим элементами кортежа x1:\n",
    "с = x1[2] + x1[3]"
   ]
  },
  {
   "cell_type": "code",
   "execution_count": 11,
   "id": "b8bace5c-ef46-4737-99ce-0f803552dac0",
   "metadata": {},
   "outputs": [
    {
     "data": {
      "text/plain": [
       "(2, 3, 3)"
      ]
     },
     "execution_count": 11,
     "metadata": {},
     "output_type": "execute_result"
    }
   ],
   "source": [
    "# обращение к элементам именованного кортежа x3:\n",
    "x3.a, x3.b, x3[2]"
   ]
  },
  {
   "cell_type": "code",
   "execution_count": 12,
   "id": "4ee77bd4-651f-4c41-825c-a70e7b219735",
   "metadata": {},
   "outputs": [
    {
     "data": {
      "text/plain": [
       "(true, false)"
      ]
     },
     "execution_count": 12,
     "metadata": {},
     "output_type": "execute_result"
    }
   ],
   "source": [
    "# проверка вхождения элементов tmp и 0 в кортеж x2\n",
    "# (два способа обращения к методу in()):\n",
    "in(\"tmp\", x2), 0 in x2"
   ]
  },
  {
   "cell_type": "markdown",
   "id": "24425b52-9594-451d-9539-da2483c97b0f",
   "metadata": {},
   "source": [
    "### Словари"
   ]
  },
  {
   "cell_type": "markdown",
   "id": "ffcb7586-ca85-434f-9ce7-3bd8f8cd7d2a",
   "metadata": {},
   "source": [
    "#### Примеры словарей и операций над ними:"
   ]
  },
  {
   "cell_type": "code",
   "execution_count": 13,
   "id": "787f108c-cd62-4013-981e-60f64646986f",
   "metadata": {},
   "outputs": [
    {
     "data": {
      "text/plain": [
       "Dict{String, Any} with 2 entries:\n",
       "  \"Бухгалтерия\" => \"555-2368\"\n",
       "  \"Иванов И.И.\" => (\"867-5309\", \"333-5544\")"
      ]
     },
     "execution_count": 13,
     "metadata": {},
     "output_type": "execute_result"
    }
   ],
   "source": [
    "# создать словарь с именем phonebook:\n",
    "phonebook = Dict(\"Иванов И.И.\" => (\"867-5309\",\"333-5544\"),\"Бухгалтерия\" => \"555-2368\")"
   ]
  },
  {
   "cell_type": "code",
   "execution_count": 14,
   "id": "0e0b2998-1887-46fc-9e01-db82858eb883",
   "metadata": {},
   "outputs": [
    {
     "data": {
      "text/plain": [
       "KeySet for a Dict{String, Any} with 2 entries. Keys:\n",
       "  \"Бухгалтерия\"\n",
       "  \"Иванов И.И.\""
      ]
     },
     "execution_count": 14,
     "metadata": {},
     "output_type": "execute_result"
    }
   ],
   "source": [
    "# вывести ключи словаря:\n",
    "keys(phonebook)"
   ]
  },
  {
   "cell_type": "code",
   "execution_count": 15,
   "id": "b99a6f22-24a3-4de5-9eeb-059f667d856c",
   "metadata": {},
   "outputs": [
    {
     "data": {
      "text/plain": [
       "ValueIterator for a Dict{String, Any} with 2 entries. Values:\n",
       "  \"555-2368\"\n",
       "  (\"867-5309\", \"333-5544\")"
      ]
     },
     "execution_count": 15,
     "metadata": {},
     "output_type": "execute_result"
    }
   ],
   "source": [
    "# вывести значения элементов словаря:\n",
    "values(phonebook)"
   ]
  },
  {
   "cell_type": "code",
   "execution_count": 16,
   "id": "2119203e-cc1d-4c3a-8165-e6510670b7c6",
   "metadata": {},
   "outputs": [
    {
     "data": {
      "text/plain": [
       "Dict{String, Any} with 2 entries:\n",
       "  \"Бухгалтерия\" => \"555-2368\"\n",
       "  \"Иванов И.И.\" => (\"867-5309\", \"333-5544\")"
      ]
     },
     "execution_count": 16,
     "metadata": {},
     "output_type": "execute_result"
    }
   ],
   "source": [
    "# вывести заданные в словаре пары \"ключ - значение\":\n",
    "pairs(phonebook)"
   ]
  },
  {
   "cell_type": "code",
   "execution_count": 17,
   "id": "949bef3a-9b00-4a9b-8272-30d8e264bf0c",
   "metadata": {},
   "outputs": [
    {
     "data": {
      "text/plain": [
       "true"
      ]
     },
     "execution_count": 17,
     "metadata": {},
     "output_type": "execute_result"
    }
   ],
   "source": [
    "# проверка вхождения ключа в словарь:\n",
    "haskey(phonebook, \"Иванов И.И.\")"
   ]
  },
  {
   "cell_type": "code",
   "execution_count": 18,
   "id": "98ff30dd-e334-42c2-85ee-f5f1fe913c90",
   "metadata": {},
   "outputs": [
    {
     "data": {
      "text/plain": [
       "\"555-3344\""
      ]
     },
     "execution_count": 18,
     "metadata": {},
     "output_type": "execute_result"
    }
   ],
   "source": [
    "# добавить элемент в словарь:\n",
    "phonebook[\"Сидоров П.С.\"] = \"555-3344\""
   ]
  },
  {
   "cell_type": "code",
   "execution_count": 19,
   "id": "0842d724-73e7-401a-af5c-5ef4af37e74a",
   "metadata": {},
   "outputs": [
    {
     "data": {
      "text/plain": [
       "(\"867-5309\", \"333-5544\")"
      ]
     },
     "execution_count": 19,
     "metadata": {},
     "output_type": "execute_result"
    }
   ],
   "source": [
    "# удалить ключ и связанные с ним значения из словаря\n",
    "pop!(phonebook, \"Иванов И.И.\")"
   ]
  },
  {
   "cell_type": "code",
   "execution_count": 20,
   "id": "ff4600f6-292d-4e99-be82-357458dbf140",
   "metadata": {},
   "outputs": [
    {
     "data": {
      "text/plain": [
       "(Dict{String, Real}(\"bar\" => 13.0, \"baz\" => 17, \"foo\" => 0.0), Dict{String, Real}(\"bar\" => 42.0, \"baz\" => 17, \"foo\" => 0.0))"
      ]
     },
     "execution_count": 20,
     "metadata": {},
     "output_type": "execute_result"
    }
   ],
   "source": [
    "# Объединение словарей (функция merge()):\n",
    "a = Dict(\"foo\" => 0.0, \"bar\" => 42.0);\n",
    "b = Dict(\"baz\" => 17, \"bar\" => 13.0);\n",
    "merge(a, b), merge(b,a)"
   ]
  },
  {
   "cell_type": "markdown",
   "id": "94e29dbb-26b1-4576-b793-ec22fafa37c1",
   "metadata": {},
   "source": [
    "### Множества"
   ]
  },
  {
   "cell_type": "markdown",
   "id": "a2e37e1f-adb4-4760-898e-ad02c96edba9",
   "metadata": {},
   "source": [
    "### Примеры множеств и операций над ними:"
   ]
  },
  {
   "cell_type": "code",
   "execution_count": 21,
   "id": "bf4576d0-b628-4b4f-a611-3fd2c27d43b1",
   "metadata": {},
   "outputs": [
    {
     "data": {
      "text/plain": [
       "Set{Int64} with 4 elements:\n",
       "  5\n",
       "  4\n",
       "  3\n",
       "  1"
      ]
     },
     "execution_count": 21,
     "metadata": {},
     "output_type": "execute_result"
    }
   ],
   "source": [
    "# создать множество из четырёх целочисленных значений:\n",
    "A = Set([1, 3, 4, 5])"
   ]
  },
  {
   "cell_type": "code",
   "execution_count": 22,
   "id": "8fe3a304-9737-4b45-95ae-54921a025029",
   "metadata": {},
   "outputs": [
    {
     "data": {
      "text/plain": [
       "Set{Char} with 5 elements:\n",
       "  'a'\n",
       "  'd'\n",
       "  'r'\n",
       "  'k'\n",
       "  'b'"
      ]
     },
     "execution_count": 22,
     "metadata": {},
     "output_type": "execute_result"
    }
   ],
   "source": [
    "# создать множество из 11 символьных значений:\n",
    "B = Set(\"abrakadabra\")"
   ]
  },
  {
   "cell_type": "code",
   "execution_count": 23,
   "id": "35aa6ae9-7223-4814-8c2b-f70536aa2379",
   "metadata": {},
   "outputs": [
    {
     "data": {
      "text/plain": [
       "false"
      ]
     },
     "execution_count": 23,
     "metadata": {},
     "output_type": "execute_result"
    }
   ],
   "source": [
    "# проверка эквивалентности двух множеств:\n",
    "S1 = Set([1,2]);\n",
    "S2 = Set([3,4]);\n",
    "issetequal(S1,S2)"
   ]
  },
  {
   "cell_type": "code",
   "execution_count": 24,
   "id": "b6f0e4b2-6abf-4d4b-bed1-ca39d21a412b",
   "metadata": {},
   "outputs": [
    {
     "data": {
      "text/plain": [
       "true"
      ]
     },
     "execution_count": 24,
     "metadata": {},
     "output_type": "execute_result"
    }
   ],
   "source": [
    "S3 = Set([1,2,2,3,1,2,3,2,1]);\n",
    "S4 = Set([2,3,1]);\n",
    "issetequal(S3,S4)"
   ]
  },
  {
   "cell_type": "code",
   "execution_count": 25,
   "id": "65f6d4cb-5a6c-49cc-bbd5-b45ab746d463",
   "metadata": {},
   "outputs": [
    {
     "data": {
      "text/plain": [
       "Set{Int64} with 4 elements:\n",
       "  4\n",
       "  2\n",
       "  3\n",
       "  1"
      ]
     },
     "execution_count": 25,
     "metadata": {},
     "output_type": "execute_result"
    }
   ],
   "source": [
    "# объединение множеств:\n",
    "C=union(S1,S2)"
   ]
  },
  {
   "cell_type": "code",
   "execution_count": 26,
   "id": "2039368e-d8af-423e-998b-991ca42437e8",
   "metadata": {},
   "outputs": [
    {
     "data": {
      "text/plain": [
       "Set{Int64} with 2 elements:\n",
       "  2\n",
       "  1"
      ]
     },
     "execution_count": 26,
     "metadata": {},
     "output_type": "execute_result"
    }
   ],
   "source": [
    "# пересечение множеств:\n",
    "D = intersect(S1,S3)"
   ]
  },
  {
   "cell_type": "code",
   "execution_count": 27,
   "id": "2e66aadc-a719-4faf-a278-98aa2c2f32b1",
   "metadata": {},
   "outputs": [
    {
     "data": {
      "text/plain": [
       "Set{Int64} with 1 element:\n",
       "  3"
      ]
     },
     "execution_count": 27,
     "metadata": {},
     "output_type": "execute_result"
    }
   ],
   "source": [
    "# разность множеств:\n",
    "E = setdiff(S3,S1)"
   ]
  },
  {
   "cell_type": "code",
   "execution_count": 28,
   "id": "73608051-bbf5-40a2-87a9-e2ff6e966cbc",
   "metadata": {},
   "outputs": [
    {
     "data": {
      "text/plain": [
       "true"
      ]
     },
     "execution_count": 28,
     "metadata": {},
     "output_type": "execute_result"
    }
   ],
   "source": [
    "# проверка вхождения элементов одного множества в другое:\n",
    "issubset(S1,S4)"
   ]
  },
  {
   "cell_type": "code",
   "execution_count": 29,
   "id": "b6fa18e2-f530-4bcf-8b4a-2363b5132614",
   "metadata": {},
   "outputs": [
    {
     "data": {
      "text/plain": [
       "Set{Int64} with 4 elements:\n",
       "  2\n",
       "  99\n",
       "  3\n",
       "  1"
      ]
     },
     "execution_count": 29,
     "metadata": {},
     "output_type": "execute_result"
    }
   ],
   "source": [
    "# добавление элемента в множество:\n",
    "push!(S4, 99)"
   ]
  },
  {
   "cell_type": "code",
   "execution_count": 30,
   "id": "cde017e8-6477-4a62-96e6-7511a26ecc51",
   "metadata": {},
   "outputs": [
    {
     "data": {
      "text/plain": [
       "2"
      ]
     },
     "execution_count": 30,
     "metadata": {},
     "output_type": "execute_result"
    }
   ],
   "source": [
    "# удаление последнего элемента множества:\n",
    "pop!(S4)"
   ]
  },
  {
   "cell_type": "markdown",
   "id": "96ad99d4-98e2-46dd-b22b-042b8a173ab0",
   "metadata": {},
   "source": [
    "### Массивы"
   ]
  },
  {
   "cell_type": "markdown",
   "id": "e7717fca-1aef-45b0-aee0-06743a7ce5cf",
   "metadata": {},
   "source": [
    "#### Примеры массивов:"
   ]
  },
  {
   "cell_type": "code",
   "execution_count": 31,
   "id": "3e810f98-8eb8-4e10-9761-0bb9be9bacd0",
   "metadata": {},
   "outputs": [
    {
     "data": {
      "text/plain": [
       "Any[]"
      ]
     },
     "execution_count": 31,
     "metadata": {},
     "output_type": "execute_result"
    }
   ],
   "source": [
    "# создание пустого массива с абстрактным типом:\n",
    "empty_array_1 = []"
   ]
  },
  {
   "cell_type": "code",
   "execution_count": 32,
   "id": "e64794e2-3eef-41c9-8750-52ee3598929c",
   "metadata": {},
   "outputs": [
    {
     "data": {
      "text/plain": [
       "Float64[]"
      ]
     },
     "execution_count": 32,
     "metadata": {},
     "output_type": "execute_result"
    }
   ],
   "source": [
    "# создание пустого массива с конкретным типом:\n",
    "empty_array_2 = (Int64)[]\n",
    "empty_array_3 = (Float64)[]"
   ]
  },
  {
   "cell_type": "code",
   "execution_count": 33,
   "id": "f2799bd5-055b-4533-9216-01fc4ff7f852",
   "metadata": {},
   "outputs": [
    {
     "data": {
      "text/plain": [
       "3-element Vector{Int64}:\n",
       " 1\n",
       " 2\n",
       " 3"
      ]
     },
     "execution_count": 33,
     "metadata": {},
     "output_type": "execute_result"
    }
   ],
   "source": [
    "# вектор-столбец:\n",
    "a = [1, 2, 3]"
   ]
  },
  {
   "cell_type": "code",
   "execution_count": 34,
   "id": "dbffd809-8569-49d3-9a18-7514666cb87c",
   "metadata": {},
   "outputs": [
    {
     "data": {
      "text/plain": [
       "1×3 Matrix{Int64}:\n",
       " 1  2  3"
      ]
     },
     "execution_count": 34,
     "metadata": {},
     "output_type": "execute_result"
    }
   ],
   "source": [
    "# вектор-строка:\n",
    "b = [1 2 3]"
   ]
  },
  {
   "cell_type": "code",
   "execution_count": 35,
   "id": "fb445b16-992c-4d3c-a6f8-d209051f96b5",
   "metadata": {},
   "outputs": [
    {
     "data": {
      "text/plain": [
       "3×3 Matrix{Int64}:\n",
       " 1  2  3\n",
       " 4  5  6\n",
       " 7  8  9"
      ]
     },
     "execution_count": 35,
     "metadata": {},
     "output_type": "execute_result"
    }
   ],
   "source": [
    "# многомерные массивы (матрицы):\n",
    "A = [[1, 2, 3] [4, 5, 6] [7, 8, 9]]\n",
    "B = [[1 2 3]; [4 5 6]; [7 8 9]]"
   ]
  },
  {
   "cell_type": "code",
   "execution_count": 36,
   "id": "833fdce7-2ef5-4b18-be45-52bc75c4681d",
   "metadata": {},
   "outputs": [
    {
     "data": {
      "text/plain": [
       "1×8 Matrix{Float64}:\n",
       " 0.39419  0.736679  0.194042  0.505685  …  0.511107  0.936202  0.198453"
      ]
     },
     "execution_count": 36,
     "metadata": {},
     "output_type": "execute_result"
    }
   ],
   "source": [
    "# одномерный массив из 8 элементов (массив $1 \\times 8$)\n",
    "# со значениями, случайно распределёнными на интервале [0, 1):\n",
    "c = rand(1,8)"
   ]
  },
  {
   "cell_type": "code",
   "execution_count": 37,
   "id": "26f57aa1-f3a5-4cb3-8f51-9ac0206760b3",
   "metadata": {},
   "outputs": [
    {
     "data": {
      "text/plain": [
       "2×3 Matrix{Float64}:\n",
       " 0.067948   0.0921951  0.612529\n",
       " 0.0904894  0.448998   0.699659"
      ]
     },
     "execution_count": 37,
     "metadata": {},
     "output_type": "execute_result"
    }
   ],
   "source": [
    "# многомерный массив $2 \\times 3$ (2 строки, 3 столбца) элементов\n",
    "# со значениями, случайно распределёнными на интервале [0, 1):\n",
    "C = rand(2,3)"
   ]
  },
  {
   "cell_type": "code",
   "execution_count": 38,
   "id": "3760fb6b-9ffc-4c51-9b84-65a77a9e8caa",
   "metadata": {},
   "outputs": [
    {
     "data": {
      "text/plain": [
       "4×3×2 Array{Float64, 3}:\n",
       "[:, :, 1] =\n",
       " 0.620908  0.496382  0.918964\n",
       " 0.108811  0.208313  0.551724\n",
       " 0.746312  0.107278  0.978613\n",
       " 0.867313  0.436442  0.282603\n",
       "\n",
       "[:, :, 2] =\n",
       " 0.825435  0.991333   0.737221\n",
       " 0.434437  0.0718408  0.954832\n",
       " 0.962281  0.870374   0.0118612\n",
       " 0.703507  0.0244738  0.252781"
      ]
     },
     "execution_count": 38,
     "metadata": {},
     "output_type": "execute_result"
    }
   ],
   "source": [
    "# трёхмерный массив:\n",
    "D = rand(4, 3, 2)"
   ]
  },
  {
   "cell_type": "markdown",
   "id": "8442e026-b620-4e71-9f71-b08d7df25f01",
   "metadata": {},
   "source": [
    "#### Примеры массивов, заданных некоторыми функциями через включение:"
   ]
  },
  {
   "cell_type": "code",
   "execution_count": 39,
   "id": "67bfefb4-b53f-4709-8733-086302200681",
   "metadata": {},
   "outputs": [
    {
     "data": {
      "text/plain": [
       "10-element Vector{Float64}:\n",
       " 1.0\n",
       " 1.4142135623730951\n",
       " 1.7320508075688772\n",
       " 2.0\n",
       " 2.23606797749979\n",
       " 2.449489742783178\n",
       " 2.6457513110645907\n",
       " 2.8284271247461903\n",
       " 3.0\n",
       " 3.1622776601683795"
      ]
     },
     "execution_count": 39,
     "metadata": {},
     "output_type": "execute_result"
    }
   ],
   "source": [
    "# массив из квадратных корней всех целых чисел от 1 до 10:\n",
    "roots = [sqrt(i) for i in 1:10]"
   ]
  },
  {
   "cell_type": "code",
   "execution_count": 40,
   "id": "90aa05e7-625f-47c7-ab6e-6bef2e448d85",
   "metadata": {},
   "outputs": [
    {
     "data": {
      "text/plain": [
       "5-element Vector{Int64}:\n",
       "   3\n",
       "  27\n",
       "  75\n",
       " 147\n",
       " 243"
      ]
     },
     "execution_count": 40,
     "metadata": {},
     "output_type": "execute_result"
    }
   ],
   "source": [
    "# массив с элементами вида 3*x^2,\n",
    "# где x - нечётное число от 1 до 9 (включительно\n",
    "ar_1 = [3*i^2 for i in 1:2:9]"
   ]
  },
  {
   "cell_type": "code",
   "execution_count": 41,
   "id": "bc4b27fc-e48e-4f4b-b40a-a7e762ca26d5",
   "metadata": {},
   "outputs": [
    {
     "data": {
      "text/plain": [
       "4-element Vector{Int64}:\n",
       "  1\n",
       "  9\n",
       " 49\n",
       " 81"
      ]
     },
     "execution_count": 41,
     "metadata": {},
     "output_type": "execute_result"
    }
   ],
   "source": [
    "# массив квадратов элементов, если квадрат не делится на 5 или 4:\n",
    "ar_2=[i^2 for i=1:10 if (i^2%5!=0 && i^2%4!=0)]"
   ]
  },
  {
   "cell_type": "markdown",
   "id": "2d29b83d-6b5e-440e-89d1-5bd1e133071b",
   "metadata": {},
   "source": [
    "#### Некоторые операции для работы с массивами:"
   ]
  },
  {
   "cell_type": "code",
   "execution_count": 42,
   "id": "94492e42-06b4-4e0b-b46a-177682f263d9",
   "metadata": {},
   "outputs": [
    {
     "data": {
      "text/plain": [
       "5-element Vector{Float64}:\n",
       " 1.0\n",
       " 1.0\n",
       " 1.0\n",
       " 1.0\n",
       " 1.0"
      ]
     },
     "execution_count": 42,
     "metadata": {},
     "output_type": "execute_result"
    }
   ],
   "source": [
    "# одномерный массив из пяти единиц:\n",
    "ones(5)"
   ]
  },
  {
   "cell_type": "code",
   "execution_count": 43,
   "id": "c24050c7-5194-4928-9f88-5debbc87ef2f",
   "metadata": {},
   "outputs": [
    {
     "data": {
      "text/plain": [
       "2×3 Matrix{Float64}:\n",
       " 1.0  1.0  1.0\n",
       " 1.0  1.0  1.0"
      ]
     },
     "execution_count": 43,
     "metadata": {},
     "output_type": "execute_result"
    }
   ],
   "source": [
    "# двумерный массив 2x3 из единиц:\n",
    "ones(2,3)"
   ]
  },
  {
   "cell_type": "code",
   "execution_count": 44,
   "id": "d85be6b7-57fa-4d9b-9515-c76a0b294777",
   "metadata": {},
   "outputs": [
    {
     "data": {
      "text/plain": [
       "4-element Vector{Float64}:\n",
       " 0.0\n",
       " 0.0\n",
       " 0.0\n",
       " 0.0"
      ]
     },
     "execution_count": 44,
     "metadata": {},
     "output_type": "execute_result"
    }
   ],
   "source": [
    "# одномерный массив из 4 нулей:\n",
    "zeros(4)"
   ]
  },
  {
   "cell_type": "code",
   "execution_count": 45,
   "id": "358746c8-c3ae-4873-b07c-4431388a10f7",
   "metadata": {},
   "outputs": [
    {
     "data": {
      "text/plain": [
       "3×2 Matrix{Float64}:\n",
       " 3.5  3.5\n",
       " 3.5  3.5\n",
       " 3.5  3.5"
      ]
     },
     "execution_count": 45,
     "metadata": {},
     "output_type": "execute_result"
    }
   ],
   "source": [
    "# заполнить массив 3x2 цифрами 3.5\n",
    "fill(3.5,(3,2))"
   ]
  },
  {
   "cell_type": "code",
   "execution_count": 46,
   "id": "caaceacb-9351-4d27-9e47-4637d207cf46",
   "metadata": {},
   "outputs": [
    {
     "data": {
      "text/plain": [
       "3×6 Matrix{Int64}:\n",
       " 1  2  1  2  1  2\n",
       " 1  2  1  2  1  2\n",
       " 1  2  1  2  1  2"
      ]
     },
     "execution_count": 46,
     "metadata": {},
     "output_type": "execute_result"
    }
   ],
   "source": [
    "# заполнение массива посредством функции repeat():\n",
    "repeat([1,2],3,3)\n",
    "repeat([1 2],3,3)"
   ]
  },
  {
   "cell_type": "code",
   "execution_count": 47,
   "id": "9a9033a7-5352-4dea-b774-53aa7bbbc34a",
   "metadata": {},
   "outputs": [
    {
     "data": {
      "text/plain": [
       "2×6 Matrix{Int64}:\n",
       " 1  3  5  7   9  11\n",
       " 2  4  6  8  10  12"
      ]
     },
     "execution_count": 47,
     "metadata": {},
     "output_type": "execute_result"
    }
   ],
   "source": [
    "# преобразование одномерного массива из целых чисел от 1 до 12\n",
    "# в двумерный массив 2x6\n",
    "a = collect(1:12)\n",
    "b = reshape(a,(2,6))"
   ]
  },
  {
   "cell_type": "code",
   "execution_count": 48,
   "id": "79bd9bcd-8ea9-44f9-bd29-22b1367cc99d",
   "metadata": {},
   "outputs": [
    {
     "data": {
      "text/plain": [
       "6×2 adjoint(::Matrix{Int64}) with eltype Int64:\n",
       "  1   2\n",
       "  3   4\n",
       "  5   6\n",
       "  7   8\n",
       "  9  10\n",
       " 11  12"
      ]
     },
     "execution_count": 48,
     "metadata": {},
     "output_type": "execute_result"
    }
   ],
   "source": [
    "# транспонирование\n",
    "b'"
   ]
  },
  {
   "cell_type": "code",
   "execution_count": 49,
   "id": "604a0561-e2a6-46d1-8c42-ebbfb3346622",
   "metadata": {},
   "outputs": [
    {
     "data": {
      "text/plain": [
       "6×2 transpose(::Matrix{Int64}) with eltype Int64:\n",
       "  1   2\n",
       "  3   4\n",
       "  5   6\n",
       "  7   8\n",
       "  9  10\n",
       " 11  12"
      ]
     },
     "execution_count": 49,
     "metadata": {},
     "output_type": "execute_result"
    }
   ],
   "source": [
    "# транспонирование\n",
    "с = transpose(b)"
   ]
  },
  {
   "cell_type": "code",
   "execution_count": 50,
   "id": "f417ae5e-c653-4a0b-8958-d28b44cd284f",
   "metadata": {},
   "outputs": [
    {
     "data": {
      "text/plain": [
       "10×5 Matrix{Int64}:\n",
       " 16  14  12  17  15\n",
       " 18  13  15  20  16\n",
       " 12  20  20  19  10\n",
       " 16  17  14  18  12\n",
       " 19  17  14  14  14\n",
       " 15  11  20  14  15\n",
       " 20  13  15  10  10\n",
       " 15  18  10  18  16\n",
       " 12  15  12  16  13\n",
       " 10  10  20  12  17"
      ]
     },
     "execution_count": 50,
     "metadata": {},
     "output_type": "execute_result"
    }
   ],
   "source": [
    "# массив 10x5 целых чисел в диапазоне [10, 20]:\n",
    "ar = rand(10:20, 10, 5)"
   ]
  },
  {
   "cell_type": "code",
   "execution_count": 51,
   "id": "202ce742-4506-4fce-9176-8fa800337524",
   "metadata": {},
   "outputs": [
    {
     "data": {
      "text/plain": [
       "10-element Vector{Int64}:\n",
       " 14\n",
       " 13\n",
       " 20\n",
       " 17\n",
       " 17\n",
       " 11\n",
       " 13\n",
       " 18\n",
       " 15\n",
       " 10"
      ]
     },
     "execution_count": 51,
     "metadata": {},
     "output_type": "execute_result"
    }
   ],
   "source": [
    "# выбор всех значений строки в столбце 2:\n",
    "ar[:, 2]"
   ]
  },
  {
   "cell_type": "code",
   "execution_count": 52,
   "id": "937c0986-f652-47b9-b147-dafe271c3888",
   "metadata": {},
   "outputs": [
    {
     "data": {
      "text/plain": [
       "10×2 Matrix{Int64}:\n",
       " 14  15\n",
       " 13  16\n",
       " 20  10\n",
       " 17  12\n",
       " 17  14\n",
       " 11  15\n",
       " 13  10\n",
       " 18  16\n",
       " 15  13\n",
       " 10  17"
      ]
     },
     "execution_count": 52,
     "metadata": {},
     "output_type": "execute_result"
    }
   ],
   "source": [
    "# выбор всех значений в столбцах 2 и 5:\n",
    "ar[:, [2, 5]]"
   ]
  },
  {
   "cell_type": "code",
   "execution_count": 53,
   "id": "de70d780-1f57-4b28-a14c-a538ebfa8e79",
   "metadata": {},
   "outputs": [
    {
     "data": {
      "text/plain": [
       "10×3 Matrix{Int64}:\n",
       " 14  12  17\n",
       " 13  15  20\n",
       " 20  20  19\n",
       " 17  14  18\n",
       " 17  14  14\n",
       " 11  20  14\n",
       " 13  15  10\n",
       " 18  10  18\n",
       " 15  12  16\n",
       " 10  20  12"
      ]
     },
     "execution_count": 53,
     "metadata": {},
     "output_type": "execute_result"
    }
   ],
   "source": [
    "# все значения строк в столбцах 2, 3 и 4:\n",
    "ar[:, 2:4]"
   ]
  },
  {
   "cell_type": "code",
   "execution_count": 54,
   "id": "4156619d-e1b0-4abd-9444-ad6763941813",
   "metadata": {},
   "outputs": [
    {
     "data": {
      "text/plain": [
       "3×2 Matrix{Int64}:\n",
       " 18  16\n",
       " 16  12\n",
       " 15  15"
      ]
     },
     "execution_count": 54,
     "metadata": {},
     "output_type": "execute_result"
    }
   ],
   "source": [
    "# значения в строках 2, 4, 6 и в столбцах 1 и 5:\n",
    "ar[[2, 4, 6], [1, 5]]"
   ]
  },
  {
   "cell_type": "code",
   "execution_count": 55,
   "id": "8983b173-2b15-430a-8305-b83b54addada",
   "metadata": {},
   "outputs": [
    {
     "data": {
      "text/plain": [
       "3-element Vector{Int64}:\n",
       " 12\n",
       " 17\n",
       " 15"
      ]
     },
     "execution_count": 55,
     "metadata": {},
     "output_type": "execute_result"
    }
   ],
   "source": [
    "# значения в строке 1 от столбца 3 до последнего столбца:\n",
    "ar[1, 3:end]"
   ]
  },
  {
   "cell_type": "code",
   "execution_count": 56,
   "id": "190da4f3-29f7-451a-9578-43e336ffcff8",
   "metadata": {},
   "outputs": [
    {
     "data": {
      "text/plain": [
       "10×5 Matrix{Int64}:\n",
       " 10  10  10  10  10\n",
       " 12  11  12  12  10\n",
       " 12  13  12  14  12\n",
       " 15  13  14  14  13\n",
       " 15  14  14  16  14\n",
       " 16  15  15  17  15\n",
       " 16  17  15  18  15\n",
       " 18  17  20  18  16\n",
       " 19  18  20  19  16\n",
       " 20  20  20  20  17"
      ]
     },
     "execution_count": 56,
     "metadata": {},
     "output_type": "execute_result"
    }
   ],
   "source": [
    "# сортировка по столбцам:\n",
    "sort(ar,dims=1)"
   ]
  },
  {
   "cell_type": "code",
   "execution_count": 57,
   "id": "99ede9f7-188d-45b4-ad91-e84abec2f063",
   "metadata": {},
   "outputs": [
    {
     "data": {
      "text/plain": [
       "10×5 Matrix{Int64}:\n",
       " 12  14  15  16  17\n",
       " 13  15  16  18  20\n",
       " 10  12  19  20  20\n",
       " 12  14  16  17  18\n",
       " 14  14  14  17  19\n",
       " 11  14  15  15  20\n",
       " 10  10  13  15  20\n",
       " 10  15  16  18  18\n",
       " 12  12  13  15  16\n",
       " 10  10  12  17  20"
      ]
     },
     "execution_count": 57,
     "metadata": {},
     "output_type": "execute_result"
    }
   ],
   "source": [
    "# сортировка по строкам:\n",
    "sort(ar,dims=2)"
   ]
  },
  {
   "cell_type": "code",
   "execution_count": 58,
   "id": "38ec925e-04e5-4ca7-a9c5-a4433d51ac36",
   "metadata": {},
   "outputs": [
    {
     "data": {
      "text/plain": [
       "10×5 BitMatrix:\n",
       " 1  0  0  1  1\n",
       " 1  0  1  1  1\n",
       " 0  1  1  1  0\n",
       " 1  1  0  1  0\n",
       " 1  1  0  0  0\n",
       " 1  0  1  0  1\n",
       " 1  0  1  0  0\n",
       " 1  1  0  1  1\n",
       " 0  1  0  1  0\n",
       " 0  0  1  0  1"
      ]
     },
     "execution_count": 58,
     "metadata": {},
     "output_type": "execute_result"
    }
   ],
   "source": [
    "# поэлементное сравнение с числом\n",
    "# (результат - массив логических значений):\n",
    "ar .> 14"
   ]
  },
  {
   "cell_type": "code",
   "execution_count": 59,
   "id": "2d9922d9-bcee-488a-a488-b297e6627448",
   "metadata": {},
   "outputs": [
    {
     "data": {
      "text/plain": [
       "28-element Vector{CartesianIndex{2}}:\n",
       " CartesianIndex(1, 1)\n",
       " CartesianIndex(2, 1)\n",
       " CartesianIndex(4, 1)\n",
       " CartesianIndex(5, 1)\n",
       " CartesianIndex(6, 1)\n",
       " CartesianIndex(7, 1)\n",
       " CartesianIndex(8, 1)\n",
       " CartesianIndex(3, 2)\n",
       " CartesianIndex(4, 2)\n",
       " CartesianIndex(5, 2)\n",
       " CartesianIndex(8, 2)\n",
       " CartesianIndex(9, 2)\n",
       " CartesianIndex(2, 3)\n",
       " ⋮\n",
       " CartesianIndex(10, 3)\n",
       " CartesianIndex(1, 4)\n",
       " CartesianIndex(2, 4)\n",
       " CartesianIndex(3, 4)\n",
       " CartesianIndex(4, 4)\n",
       " CartesianIndex(8, 4)\n",
       " CartesianIndex(9, 4)\n",
       " CartesianIndex(1, 5)\n",
       " CartesianIndex(2, 5)\n",
       " CartesianIndex(6, 5)\n",
       " CartesianIndex(8, 5)\n",
       " CartesianIndex(10, 5)"
      ]
     },
     "execution_count": 59,
     "metadata": {},
     "output_type": "execute_result"
    }
   ],
   "source": [
    "# возврат индексов элементов массива, удовлетворяющих условию:\n",
    "findall(ar .> 14)"
   ]
  },
  {
   "cell_type": "markdown",
   "id": "8e87dc25-714c-4407-a6be-7751c4a188d2",
   "metadata": {},
   "source": [
    "### Самостоятельное выполнение"
   ]
  },
  {
   "cell_type": "markdown",
   "id": "a2c3ddae-e2be-4b90-a017-1dd55c76165e",
   "metadata": {},
   "source": [
    "#### №1. Даны множества: 𝐴 = {0, 3, 4, 9}, 𝐵 = {1, 3, 4, 7}, 𝐶 = {0, 1, 2, 4, 7, 8, 9}. Найти 𝑃 = 𝐴 ∩ 𝐵 ∪ 𝐴 ∩ 𝐵 ∪ 𝐴 ∩ 𝐶 ∪ 𝐵 ∩ 𝐶."
   ]
  },
  {
   "cell_type": "code",
   "execution_count": 60,
   "id": "ac1d0cdd-356b-4d52-a815-acab380d6f74",
   "metadata": {},
   "outputs": [
    {
     "name": "stdout",
     "output_type": "stream",
     "text": [
      "Set([0, 4, 7, 9, 3, 1])\n"
     ]
    }
   ],
   "source": [
    "A = Set([0, 3, 4, 9])\n",
    "B = Set([1, 3, 4, 7])\n",
    "C = Set([0, 1, 2, 4, 7, 8, 9])\n",
    "\n",
    "P = union(intersect(A, B), intersect(A, C), intersect(B, C))\n",
    "println(P)"
   ]
  },
  {
   "cell_type": "markdown",
   "id": "8f8d41b5-16b2-43da-bad2-d3d3f7228c8c",
   "metadata": {},
   "source": [
    "#### №2. Приведите свои примеры с выполнением операций над множествами элементов разных типов."
   ]
  },
  {
   "cell_type": "code",
   "execution_count": 61,
   "id": "aa7078e4-94f0-4f9d-860e-a33c9f34f70c",
   "metadata": {},
   "outputs": [
    {
     "name": "stdout",
     "output_type": "stream",
     "text": [
      "Set([\"banana\", \"apple\"])\n"
     ]
    }
   ],
   "source": [
    "set1 = Set([\"pineapple\", \"apple\", \"banana\"])\n",
    "set2 = Set([\"banana\" , \"apple\", \"fejoa\"])\n",
    "intersection = intersect(set1, set2)\n",
    "println(intersection)"
   ]
  },
  {
   "cell_type": "code",
   "execution_count": 62,
   "id": "44fce5b1-222b-4cdc-8368-ab4af1f8fe0e",
   "metadata": {},
   "outputs": [
    {
     "name": "stdout",
     "output_type": "stream",
     "text": [
      "Set([20])\n"
     ]
    }
   ],
   "source": [
    "# Пример 2: множество чисел\n",
    "set3 = Set([20, 30, 40])\n",
    "set4 = Set([30, 40, 50])\n",
    "difference = setdiff(set3, set4)\n",
    "println(difference)"
   ]
  },
  {
   "cell_type": "markdown",
   "id": "f116401f-536a-43a4-83e0-47b0fd304ee2",
   "metadata": {},
   "source": [
    "#### №3. Создайте разными способами:"
   ]
  },
  {
   "cell_type": "markdown",
   "id": "e66ccfba-bca2-49bc-a6bb-75d5e62f6e8f",
   "metadata": {},
   "source": [
    "##### 3.1) массив (1, 2, 3, … 𝑁 − 1, 𝑁 ), 𝑁 выберите больше 20"
   ]
  },
  {
   "cell_type": "code",
   "execution_count": 63,
   "id": "e7aeba14-c14f-47b9-909f-6d703105b88e",
   "metadata": {},
   "outputs": [
    {
     "name": "stdout",
     "output_type": "stream",
     "text": [
      "[1, 2, 3, 4, 5, 6, 7, 8, 9, 10, 11, 12, 13, 14, 15, 16, 17, 18, 19, 20, 21, 22, 23, 24, 25]\n"
     ]
    }
   ],
   "source": [
    "N = 25\n",
    "array1 = collect(1:N)\n",
    "println(array1)"
   ]
  },
  {
   "cell_type": "markdown",
   "id": "29d6bc5c-ccd2-44ac-a2c8-8409463faca2",
   "metadata": {},
   "source": [
    "##### 3.2) массив (𝑁, 𝑁 − 1 … , 2, 1), 𝑁 выберите больше 20"
   ]
  },
  {
   "cell_type": "code",
   "execution_count": 64,
   "id": "e16f2aaa-a392-46a6-9404-5a3c9ead178a",
   "metadata": {},
   "outputs": [
    {
     "name": "stdout",
     "output_type": "stream",
     "text": [
      "[25, 24, 23, 22, 21, 20, 19, 18, 17, 16, 15, 14, 13, 12, 11, 10, 9, 8, 7, 6, 5, 4, 3, 2, 1]\n"
     ]
    }
   ],
   "source": [
    "array2 = collect(N:-1:1)\n",
    "println(array2)"
   ]
  },
  {
   "cell_type": "markdown",
   "id": "bc53835d-f977-4a49-94f2-94546d689454",
   "metadata": {},
   "source": [
    "##### 3.3) массив (1, 2, 3, … , 𝑁 − 1, 𝑁, 𝑁 − 1, … , 2, 1), 𝑁 выберите больше 20"
   ]
  },
  {
   "cell_type": "code",
   "execution_count": 65,
   "id": "a7da88f8-8142-4aa5-a169-4989ab3e2ca4",
   "metadata": {},
   "outputs": [
    {
     "name": "stdout",
     "output_type": "stream",
     "text": [
      "[1, 2, 3, 4, 5, 6, 7, 8, 9, 10, 11, 12, 13, 14, 15, 16, 17, 18, 19, 20, 21, 22, 23, 24, 25, 24, 23, 22, 21, 20, 19, 18, 17, 16, 15, 14, 13, 12, 11, 10, 9, 8, 7, 6, 5, 4, 3, 2, 1]\n"
     ]
    }
   ],
   "source": [
    "array3 = vcat(collect(1:N), collect(N-1:-1:1))\n",
    "println(array3)"
   ]
  },
  {
   "cell_type": "markdown",
   "id": "fa385c45-eadb-4d68-923f-50bb0eccf594",
   "metadata": {},
   "source": [
    "##### 3.4) массив с именем tmp вида (4, 6, 3)"
   ]
  },
  {
   "cell_type": "code",
   "execution_count": 66,
   "id": "eb3feb3d-1fe6-452f-87ae-eca113376cef",
   "metadata": {},
   "outputs": [
    {
     "name": "stdout",
     "output_type": "stream",
     "text": [
      "[4, 6, 3]\n"
     ]
    }
   ],
   "source": [
    "tmp = [4, 6, 3]\n",
    "println(tmp)"
   ]
  },
  {
   "cell_type": "markdown",
   "id": "50685448-3317-448d-9cb0-0f322fad2f49",
   "metadata": {},
   "source": [
    "##### 3.5) массив, в котором первый элемент массива tmp повторяется 10 раз"
   ]
  },
  {
   "cell_type": "code",
   "execution_count": 67,
   "id": "1ca24ae4-f572-49bc-8d6b-185876721625",
   "metadata": {},
   "outputs": [
    {
     "name": "stdout",
     "output_type": "stream",
     "text": [
      "[4, 4, 4, 4, 4, 4, 4, 4, 4, 4]\n"
     ]
    }
   ],
   "source": [
    "array4 = fill(tmp[1], 10)\n",
    "println(array4)"
   ]
  },
  {
   "cell_type": "markdown",
   "id": "32dfa285-b598-4cea-bded-a5b26cf7c321",
   "metadata": {},
   "source": [
    "##### 3.6) массив, в котором все элементы массива tmp повторяются 10 раз"
   ]
  },
  {
   "cell_type": "code",
   "execution_count": 68,
   "id": "257cc195-ce9d-4d4e-bc65-34d4af8dcdb2",
   "metadata": {},
   "outputs": [
    {
     "name": "stdout",
     "output_type": "stream",
     "text": [
      "[4, 6, 3, 4, 6, 3, 4, 6, 3, 4, 6, 3, 4, 6, 3, 4, 6, 3, 4, 6, 3, 4, 6, 3, 4, 6, 3, 4, 6, 3]\n"
     ]
    }
   ],
   "source": [
    "array5 = repeat(tmp, 10)\n",
    "println(array5)"
   ]
  },
  {
   "cell_type": "markdown",
   "id": "b0c895d9-1821-41f7-a2ad-c0826c005379",
   "metadata": {},
   "source": [
    "##### 3.7) массив, в котором первый элемент массива tmp встречается 11 раз, второй элемент — 10 раз, третий элемент — 10 раз"
   ]
  },
  {
   "cell_type": "code",
   "execution_count": 69,
   "id": "662f6de2-a217-4e91-b9a4-1b8d000dc19a",
   "metadata": {},
   "outputs": [
    {
     "name": "stdout",
     "output_type": "stream",
     "text": [
      "[4, 4, 4, 4, 4, 4, 4, 4, 4, 4, 4, 6, 6, 6, 6, 6, 6, 6, 6, 6, 6, 3, 3, 3, 3, 3, 3, 3, 3, 3, 3]\n"
     ]
    }
   ],
   "source": [
    "array6 = vcat(fill(tmp[1], 11), fill(tmp[2], 10), fill(tmp[3], 10))\n",
    "println(array6)"
   ]
  },
  {
   "cell_type": "markdown",
   "id": "09e67a38-d1a0-47c8-91a7-010f3fdc2e1c",
   "metadata": {},
   "source": [
    "##### 3.8) массив, в котором первый элемент массива tmp встречается 10 раз подряд, второй элемент — 20 раз подряд, третий элемент — 30 раз подряд"
   ]
  },
  {
   "cell_type": "code",
   "execution_count": 70,
   "id": "81c2f775-dacc-443d-b082-b7e40e6a3089",
   "metadata": {},
   "outputs": [
    {
     "name": "stdout",
     "output_type": "stream",
     "text": [
      "[4, 4, 4, 4, 4, 4, 4, 4, 4, 4, 6, 6, 6, 6, 6, 6, 6, 6, 6, 6, 6, 6, 6, 6, 6, 6, 6, 6, 6, 6, 3, 3, 3, 3, 3, 3, 3, 3, 3, 3, 3, 3, 3, 3, 3, 3, 3, 3, 3, 3, 3, 3, 3, 3, 3, 3, 3, 3, 3, 3]\n"
     ]
    }
   ],
   "source": [
    "array7 = vcat(fill(tmp[1], 10), fill(tmp[2], 20), fill(tmp[3], 30))\n",
    "println(array7)"
   ]
  },
  {
   "cell_type": "markdown",
   "id": "f4aa2c19-abe0-4000-9606-6edafdd8c790",
   "metadata": {},
   "source": [
    "##### 3.9) массив из элементов вида 2^𝑡𝑚𝑝[𝑖], 𝑖 = 1, 2, 3, где элемент 2^𝑡𝑚𝑝[3] встречается 4 раза; посчитайте в полученном векторе, сколько раз встречается цифра 6, и выведите это значение на экран"
   ]
  },
  {
   "cell_type": "code",
   "execution_count": 71,
   "id": "c7fd38bb-0602-423b-883a-2e311ec8dfd1",
   "metadata": {},
   "outputs": [
    {
     "name": "stdout",
     "output_type": "stream",
     "text": [
      "Результирующий массив: [16, 64, 8, 8, 8, 8, 8]\n",
      "Количество цифры 6: 2\n"
     ]
    }
   ],
   "source": [
    "# Задаем массив tmp\n",
    "tmp = [4, 6, 3]\n",
    "\n",
    "# Формируем массив: элемент 2^tmp[3] повторяется 4 раза\n",
    "result_array = [2^tmp[i] for i in 1:3]\n",
    "result_array = vcat(result_array, repeat([2^tmp[3]], 4))\n",
    "\n",
    "# Преобразуем массив в строку для поиска цифры '6'\n",
    "result_string = join(result_array, \"\")\n",
    "count_6 = count(x -> x == '6', result_string)\n",
    "\n",
    "# Выводим массив и количество цифр 6\n",
    "println(\"Результирующий массив: \", result_array)\n",
    "println(\"Количество цифры 6: \", count_6)"
   ]
  },
  {
   "cell_type": "markdown",
   "id": "56544c9d-c3a9-4c2b-a6bb-2c817d7173f5",
   "metadata": {},
   "source": [
    "##### 3.10) вектор значений 𝑦 = 𝑒^𝑥 cos(𝑥) в точках 𝑥 = 3, 3.1, 3.2, … , 6, найдите среднее значение 𝑦"
   ]
  },
  {
   "cell_type": "code",
   "execution_count": 72,
   "id": "feaaa755-06d0-4bc8-91a8-c53f6a4f4006",
   "metadata": {},
   "outputs": [
    {
     "name": "stdout",
     "output_type": "stream",
     "text": [
      "Среднее значение y: 53.11374594642971\n"
     ]
    }
   ],
   "source": [
    "using Statistics\n",
    "\n",
    "x = 3:0.1:6\n",
    "y = [exp(x) * cos(x) for x in x]\n",
    "\n",
    "println(\"Среднее значение y: \", mean(y))"
   ]
  },
  {
   "cell_type": "markdown",
   "id": "05659819-023f-40ba-bdf1-b8b4df8674c5",
   "metadata": {},
   "source": [
    "##### 3.11) вектор вида (𝑥^𝑖, 𝑦^𝑗), 𝑥 = 0.1, 𝑖 = 3, 6, 9, … , 36, 𝑦 = 0.2, 𝑗 = 1, 4, 7, … , 34"
   ]
  },
  {
   "cell_type": "code",
   "execution_count": 73,
   "id": "41bcea5c-d9c9-4481-aa02-589d81828e55",
   "metadata": {},
   "outputs": [
    {
     "name": "stdout",
     "output_type": "stream",
     "text": [
      "[(0.30000000000000004, 0.2) (0.30000000000000004, 0.8) (0.30000000000000004, 1.4000000000000001) (0.30000000000000004, 2.0) (0.30000000000000004, 2.6) (0.30000000000000004, 3.2) (0.30000000000000004, 3.8000000000000003) (0.30000000000000004, 4.4) (0.30000000000000004, 5.0) (0.30000000000000004, 5.6000000000000005) (0.30000000000000004, 6.2) (0.30000000000000004, 6.800000000000001); (0.6000000000000001, 0.2) (0.6000000000000001, 0.8) (0.6000000000000001, 1.4000000000000001) (0.6000000000000001, 2.0) (0.6000000000000001, 2.6) (0.6000000000000001, 3.2) (0.6000000000000001, 3.8000000000000003) (0.6000000000000001, 4.4) (0.6000000000000001, 5.0) (0.6000000000000001, 5.6000000000000005) (0.6000000000000001, 6.2) (0.6000000000000001, 6.800000000000001); (0.9, 0.2) (0.9, 0.8) (0.9, 1.4000000000000001) (0.9, 2.0) (0.9, 2.6) (0.9, 3.2) (0.9, 3.8000000000000003) (0.9, 4.4) (0.9, 5.0) (0.9, 5.6000000000000005) (0.9, 6.2) (0.9, 6.800000000000001); (1.2000000000000002, 0.2) (1.2000000000000002, 0.8) (1.2000000000000002, 1.4000000000000001) (1.2000000000000002, 2.0) (1.2000000000000002, 2.6) (1.2000000000000002, 3.2) (1.2000000000000002, 3.8000000000000003) (1.2000000000000002, 4.4) (1.2000000000000002, 5.0) (1.2000000000000002, 5.6000000000000005) (1.2000000000000002, 6.2) (1.2000000000000002, 6.800000000000001); (1.5, 0.2) (1.5, 0.8) (1.5, 1.4000000000000001) (1.5, 2.0) (1.5, 2.6) (1.5, 3.2) (1.5, 3.8000000000000003) (1.5, 4.4) (1.5, 5.0) (1.5, 5.6000000000000005) (1.5, 6.2) (1.5, 6.800000000000001); (1.8, 0.2) (1.8, 0.8) (1.8, 1.4000000000000001) (1.8, 2.0) (1.8, 2.6) (1.8, 3.2) (1.8, 3.8000000000000003) (1.8, 4.4) (1.8, 5.0) (1.8, 5.6000000000000005) (1.8, 6.2) (1.8, 6.800000000000001); (2.1, 0.2) (2.1, 0.8) (2.1, 1.4000000000000001) (2.1, 2.0) (2.1, 2.6) (2.1, 3.2) (2.1, 3.8000000000000003) (2.1, 4.4) (2.1, 5.0) (2.1, 5.6000000000000005) (2.1, 6.2) (2.1, 6.800000000000001); (2.4000000000000004, 0.2) (2.4000000000000004, 0.8) (2.4000000000000004, 1.4000000000000001) (2.4000000000000004, 2.0) (2.4000000000000004, 2.6) (2.4000000000000004, 3.2) (2.4000000000000004, 3.8000000000000003) (2.4000000000000004, 4.4) (2.4000000000000004, 5.0) (2.4000000000000004, 5.6000000000000005) (2.4000000000000004, 6.2) (2.4000000000000004, 6.800000000000001); (2.7, 0.2) (2.7, 0.8) (2.7, 1.4000000000000001) (2.7, 2.0) (2.7, 2.6) (2.7, 3.2) (2.7, 3.8000000000000003) (2.7, 4.4) (2.7, 5.0) (2.7, 5.6000000000000005) (2.7, 6.2) (2.7, 6.800000000000001); (3.0, 0.2) (3.0, 0.8) (3.0, 1.4000000000000001) (3.0, 2.0) (3.0, 2.6) (3.0, 3.2) (3.0, 3.8000000000000003) (3.0, 4.4) (3.0, 5.0) (3.0, 5.6000000000000005) (3.0, 6.2) (3.0, 6.800000000000001); (3.3000000000000003, 0.2) (3.3000000000000003, 0.8) (3.3000000000000003, 1.4000000000000001) (3.3000000000000003, 2.0) (3.3000000000000003, 2.6) (3.3000000000000003, 3.2) (3.3000000000000003, 3.8000000000000003) (3.3000000000000003, 4.4) (3.3000000000000003, 5.0) (3.3000000000000003, 5.6000000000000005) (3.3000000000000003, 6.2) (3.3000000000000003, 6.800000000000001); (3.6, 0.2) (3.6, 0.8) (3.6, 1.4000000000000001) (3.6, 2.0) (3.6, 2.6) (3.6, 3.2) (3.6, 3.8000000000000003) (3.6, 4.4) (3.6, 5.0) (3.6, 5.6000000000000005) (3.6, 6.2) (3.6, 6.800000000000001)]\n"
     ]
    }
   ],
   "source": [
    "xi = collect(3:3:36) * 0.1\n",
    "yj = collect(1:3:34) * 0.2\n",
    "vector11 = [(x, y) for x in xi, y in yj]\n",
    "println(vector11)"
   ]
  },
  {
   "cell_type": "markdown",
   "id": "21245ecb-34bb-4c66-aa0d-d78500f6eee2",
   "metadata": {},
   "source": [
    "##### 3.12) вектор с элементами (2^𝑖)/𝑖, 𝑖 = 1, 2, … , 𝑀, 𝑀 = 25\n"
   ]
  },
  {
   "cell_type": "code",
   "execution_count": 74,
   "id": "e3380362-2c00-4876-8429-767886c74da1",
   "metadata": {},
   "outputs": [
    {
     "name": "stdout",
     "output_type": "stream",
     "text": [
      "[2.0, 2.0, 2.6666666666666665, 4.0, 6.4, 10.666666666666666, 18.285714285714285, 32.0, 56.888888888888886, 102.4, 186.1818181818182, 341.3333333333333, 630.1538461538462, 1170.2857142857142, 2184.5333333333333, 4096.0, 7710.117647058823, 14563.555555555555, 27594.105263157893, 52428.8, 99864.38095238095, 190650.18181818182, 364722.0869565217, 699050.6666666666, 1.34217728e6]\n"
     ]
    }
   ],
   "source": [
    "M = 25\n",
    "vector12 = [2^i / i for i in 1:M]\n",
    "println(vector12)"
   ]
  },
  {
   "cell_type": "markdown",
   "id": "d7d0c02f-d1a8-4c51-b1c8-7ecf91eea780",
   "metadata": {},
   "source": [
    "##### 3.13) вектор вида (”fn1”, ”fn2”, …, ”fnN”), 𝑁 = 30"
   ]
  },
  {
   "cell_type": "code",
   "execution_count": 75,
   "id": "d66adb01-6633-4773-bf6e-540b452c1764",
   "metadata": {},
   "outputs": [
    {
     "name": "stdout",
     "output_type": "stream",
     "text": [
      "[\"fn1\", \"fn2\", \"fn3\", \"fn4\", \"fn5\", \"fn6\", \"fn7\", \"fn8\", \"fn9\", \"fn10\", \"fn11\", \"fn12\", \"fn13\", \"fn14\", \"fn15\", \"fn16\", \"fn17\", \"fn18\", \"fn19\", \"fn20\", \"fn21\", \"fn22\", \"fn23\", \"fn24\", \"fn25\", \"fn26\", \"fn27\", \"fn28\", \"fn29\", \"fn30\"]\n"
     ]
    }
   ],
   "source": [
    "N = 30\n",
    "vector13 = [\"fn$i\" for i in 1:N]\n",
    "println(vector13)"
   ]
  },
  {
   "cell_type": "markdown",
   "id": "50162361-ca3e-46a9-8b1e-b68fbbb4bf8c",
   "metadata": {},
   "source": [
    "##### 3.14) векторы 𝑥 = (𝑥1, 𝑥2, … , 𝑥𝑛) и 𝑦 = (𝑦1, 𝑦2, … , 𝑦𝑛) целочисленного типа длины 𝑛 = 250 как случайные выборки из совокупности 0, 1, …, 999; на его основе:"
   ]
  },
  {
   "cell_type": "code",
   "execution_count": 76,
   "id": "5cc2f0a1-09a9-48da-8e41-b9bde4c9ed67",
   "metadata": {},
   "outputs": [
    {
     "name": "stdout",
     "output_type": "stream",
     "text": [
      "Элементы y > 600: [608, 864, 987, 970, 934, 960, 927, 880, 915, 908, 949, 855, 817, 988, 726, 636, 708, 773, 904, 949, 707, 995, 872, 761, 852, 922, 773, 650, 878, 875, 763, 912, 760, 775, 908, 711, 824, 692, 771, 822, 622, 643, 760, 729, 627, 773, 839, 929, 702, 959, 976, 741, 832, 975, 820, 797, 712, 745, 838, 621, 933, 880, 647, 617, 985, 812, 865, 720, 813, 639, 990, 703, 777, 753, 943, 723, 637, 634, 703, 987, 736, 721, 894, 608, 661, 766, 753, 737, 950, 625, 663, 887, 879, 812, 816, 619, 836, 746, 942, 674, 950, 966, 657, 877, 949]\n",
      "Соответствующие x: [114, 818, 536, 807, 65, 946, 208, 163, 822, 858, 960, 742, 429, 940, 71, 624, 382, 722, 658, 106, 740, 759, 717, 335, 23, 596, 804, 497, 313, 393, 197, 82, 319, 50, 526, 900, 327, 230, 426, 409, 110, 257, 712, 130, 33, 854, 262, 409, 461, 209, 879, 724, 773, 271, 469, 701, 322, 766, 423, 377, 314, 453, 122, 717, 476, 106, 131, 614, 174, 671, 789, 67, 449, 88, 508, 166, 211, 729, 324, 591, 947, 382, 851, 613, 478, 65, 953, 44, 809, 218, 677, 132, 710, 471, 408, 745, 758, 597, 83, 562, 5, 605, 818, 610, 207]\n",
      "Сумма: Inf\n",
      "Уникальные элементы x: [591, 714, 577, 798, 359, 27, 707, 114, 818, 536, 905, 282, 807, 460, 65, 784, 946, 888, 208, 566, 163, 295, 916, 258, 546, 822, 858, 168, 960, 442, 668, 742, 429, 304, 940, 71, 624, 653, 735, 675, 382, 722, 279, 466, 658, 106, 588, 740, 964, 759, 717, 749, 538, 335, 147, 490, 929, 85, 813, 837, 473, 23, 120, 732, 368, 187, 596, 804, 137, 497, 7, 313, 816, 153, 383, 567, 670, 205, 838, 590, 393, 197, 286, 842, 82, 319, 50, 302, 11, 96, 629, 626, 16, 655, 526, 782, 900, 109, 327, 775, 158, 198, 230, 426, 917, 409, 110, 257, 712, 130, 33, 605, 961, 867, 854, 262, 117, 461, 439, 249, 318, 209, 264, 879, 724, 812, 683, 811, 773, 271, 159, 469, 499, 171, 528, 647, 701, 322, 951, 766, 423, 377, 936, 314, 453, 547, 122, 60, 504, 728, 476, 396, 1, 465, 329, 131, 386, 581, 614, 955, 307, 551, 716, 174, 401, 20, 325, 671, 225, 789, 67, 449, 301, 88, 783, 471, 132, 853, 508, 860, 339, 166, 451, 211, 729, 324, 947, 851, 115, 47, 994, 613, 478, 690, 224, 953, 44, 809, 218, 677, 710, 408, 745, 758, 133, 242, 597, 83, 203, 562, 5, 477, 265, 610, 207, 305, 780, 631, 996, 834, 908]\n"
     ]
    }
   ],
   "source": [
    "using Random\n",
    "\n",
    "x = rand(0:999, 250)\n",
    "y = rand(0:999, 250)\n",
    "\n",
    "# Выбор y > 600\n",
    "filtered_y = y[y .> 600]\n",
    "println(\"Элементы y > 600: \", filtered_y)\n",
    "\n",
    "# Соответствующие элементы x\n",
    "corresponding_x = x[findall(y .> 600)]\n",
    "println(\"Соответствующие x: \", corresponding_x)\n",
    "\n",
    "# Различные операции\n",
    "sum_exp = sum(exp.(-x[2:end] + x[1:end-1]) .+ 10)\n",
    "println(\"Сумма: \", sum_exp)\n",
    "\n",
    "# Уникальные элементы x\n",
    "unique_x = unique(x)\n",
    "println(\"Уникальные элементы x: \", unique_x)"
   ]
  },
  {
   "cell_type": "markdown",
   "id": "3a2f552c-81c5-4679-8f31-5fef1d8172da",
   "metadata": {},
   "source": [
    "#### №4. Создайте массив squares, в котором будут храниться квадраты всех целых чисел от 1 до 100."
   ]
  },
  {
   "cell_type": "code",
   "execution_count": 77,
   "id": "07c4ee8c-c296-4e8d-b9ac-19e5111e59cc",
   "metadata": {},
   "outputs": [
    {
     "name": "stdout",
     "output_type": "stream",
     "text": [
      "[1, 4, 9, 16, 25, 36, 49, 64, 81, 100, 121, 144, 169, 196, 225, 256, 289, 324, 361, 400, 441, 484, 529, 576, 625, 676, 729, 784, 841, 900, 961, 1024, 1089, 1156, 1225, 1296, 1369, 1444, 1521, 1600, 1681, 1764, 1849, 1936, 2025, 2116, 2209, 2304, 2401, 2500, 2601, 2704, 2809, 2916, 3025, 3136, 3249, 3364, 3481, 3600, 3721, 3844, 3969, 4096, 4225, 4356, 4489, 4624, 4761, 4900, 5041, 5184, 5329, 5476, 5625, 5776, 5929, 6084, 6241, 6400, 6561, 6724, 6889, 7056, 7225, 7396, 7569, 7744, 7921, 8100, 8281, 8464, 8649, 8836, 9025, 9216, 9409, 9604, 9801, 10000]\n"
     ]
    }
   ],
   "source": [
    "squares = [i^2 for i in 1:100]\n",
    "println(squares)"
   ]
  },
  {
   "cell_type": "markdown",
   "id": "c16ee787-4c84-437b-a921-f452c287b5ee",
   "metadata": {},
   "source": [
    "#### 5. Подключите пакет Primes (функции для вычисления простых чисел). Сгенерируйте массив myprimes, в котором будут храниться первые 168 простых чисел. Определите 89-е наименьшее простое число. Получите срез массива с 89-го до 99-го элемента включительно, содержащий наименьшие простые числа."
   ]
  },
  {
   "cell_type": "code",
   "execution_count": 78,
   "id": "0672a109-7710-4c0a-aabe-f0b1022583e7",
   "metadata": {},
   "outputs": [
    {
     "name": "stdout",
     "output_type": "stream",
     "text": [
      "89-е простое число: 461\n",
      "Срез: [461, 463, 467, 479, 487, 491, 499, 503, 509, 521, 523]\n"
     ]
    }
   ],
   "source": [
    "using Primes\n",
    "\n",
    "# Создаем список простых чисел до 1000 (или другого достаточно большого числа)\n",
    "myprimes = primes(1000)\n",
    "\n",
    "println(\"89-е простое число: \", myprimes[89])\n",
    "println(\"Срез: \", myprimes[89:99])"
   ]
  },
  {
   "cell_type": "markdown",
   "id": "0f0c7097-2121-4313-ba6a-a082195ed4ab",
   "metadata": {},
   "source": [
    "#### 6. Вычислите выражения:"
   ]
  },
  {
   "cell_type": "markdown",
   "id": "2cf128db-1ec6-43bc-93a9-721ed5df89d5",
   "metadata": {},
   "source": [
    "##### 6.1"
   ]
  },
  {
   "cell_type": "code",
   "execution_count": 79,
   "id": "18468f4c-ebce-44cc-a2f0-c11702eca9c3",
   "metadata": {},
   "outputs": [
    {
     "name": "stdout",
     "output_type": "stream",
     "text": [
      "26852735\n"
     ]
    }
   ],
   "source": [
    "sum1 = sum(i^3 + 4*i^2 for i in 10:100)\n",
    "println(sum1)"
   ]
  },
  {
   "cell_type": "markdown",
   "id": "67d544ef-66b8-4c1d-9b05-29aadabbdd8d",
   "metadata": {},
   "source": [
    "##### 6.2"
   ]
  },
  {
   "cell_type": "code",
   "execution_count": 80,
   "id": "aa558b44-4673-491c-8d81-a20999532250",
   "metadata": {},
   "outputs": [
    {
     "name": "stdout",
     "output_type": "stream",
     "text": [
      "2.1291704368143802e9\n"
     ]
    }
   ],
   "source": [
    "sum2 = sum((2^i / i + 3^i / i^2) for i in 1:25)\n",
    "println(sum2)"
   ]
  },
  {
   "cell_type": "markdown",
   "id": "b7e69b8d-7601-4327-aece-e7c142ea6d90",
   "metadata": {},
   "source": [
    "##### 6.3"
   ]
  },
  {
   "cell_type": "code",
   "execution_count": 81,
   "id": "38a0e221-bdb5-49d2-9743-f1e19600ece0",
   "metadata": {},
   "outputs": [
    {
     "name": "stdout",
     "output_type": "stream",
     "text": [
      "12.84175745993532\n"
     ]
    }
   ],
   "source": [
    "sum3 = sum(prod(2:2n) / prod(3:2n+1) for n in 1:19)\n",
    "println(sum3)"
   ]
  }
 ],
 "metadata": {
  "kernelspec": {
   "display_name": "Julia 1.11.7",
   "language": "julia",
   "name": "julia-1.11"
  },
  "language_info": {
   "file_extension": ".jl",
   "mimetype": "application/julia",
   "name": "julia",
   "version": "1.11.7"
  }
 },
 "nbformat": 4,
 "nbformat_minor": 5
}
